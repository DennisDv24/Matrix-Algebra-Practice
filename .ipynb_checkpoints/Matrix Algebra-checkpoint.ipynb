{
 "cells": [
  {
   "cell_type": "code",
   "execution_count": 1,
   "metadata": {},
   "outputs": [],
   "source": [
    "import numpy as np\n",
    "import matplotlib as mpl\n",
    "from numpy import linalg as alg\n",
    "from matplotlib import pyplot as plt\n",
    "from mpl_toolkits.mplot3d import Axes3D\n",
    "import itertools\n",
    "import random\n",
    "import tensorflow as tf"
   ]
  },
  {
   "cell_type": "markdown",
   "metadata": {},
   "source": [
    "# Matrix Algebra"
   ]
  },
  {
   "cell_type": "code",
   "execution_count": 2,
   "metadata": {},
   "outputs": [],
   "source": [
    "M       = np.array\n",
    "MO      = np.zeros\n",
    "t       = np.transpose\n",
    "I       = np.identity\n",
    "reshape = np.reshape\n",
    "o       = np.multiply\n",
    "x       = np.dot\n",
    "pow     = alg.matrix_power\n",
    "inv     = alg.inv\n",
    "det     = alg.det\n",
    "\n",
    "rows    = lambda M : np.size(M, 0)\n",
    "cols    = lambda M : np.size(M, 1)"
   ]
  },
  {
   "cell_type": "code",
   "execution_count": 3,
   "metadata": {},
   "outputs": [],
   "source": [
    "def matrixRound(M, factor = 0):\n",
    "    r = rows(M)\n",
    "    c = cols(M)\n",
    "    M = M.flatten()\n",
    "    for i in range(0, len(M)):\n",
    "        M[i] = round(M[i],factor)\n",
    "    M = reshape(M,(r,c))\n",
    "    return M\n",
    "\n",
    "#to do def simplificate Matrix\n"
   ]
  },
  {
   "cell_type": "code",
   "execution_count": 4,
   "metadata": {},
   "outputs": [],
   "source": [
    "def randomM(d1,d2, factor = 10, doRound = True, roundFactor = 0):\n",
    "    M = np.random.rand(d1,d2)\n",
    "    M = M * factor\n",
    "    if(doRound):\n",
    "        M = matrixRound(M,roundFactor)\n",
    "    return M"
   ]
  },
  {
   "cell_type": "code",
   "execution_count": 5,
   "metadata": {},
   "outputs": [],
   "source": [
    "def gauss(M):\n",
    "    Mprime = M.copy()\n",
    "    c = cols(M)-1\n",
    "    for i in range(0, c):\n",
    "        for j in range(0, c-i):\n",
    "            Mprime[c-j,:] = Mprime[c-j-1,i]*Mprime[c-j,:] - Mprime[c-j,i]*Mprime[c-j-1,:] \n",
    "    return Mprime"
   ]
  },
  {
   "cell_type": "code",
   "execution_count": 6,
   "metadata": {},
   "outputs": [],
   "source": [
    "def r(M):\n",
    "    A = M.copy()\n",
    "    A = gauss(A)\n",
    "    if(cols(A)>rows(A)):\n",
    "        ran = rows(A)\n",
    "    else:\n",
    "        ran = cols(A)\n",
    "    c = ran\n",
    "    \n",
    "    for i in range(0, c):\n",
    "        n = 0\n",
    "        \n",
    "        for j in range(0, c):\n",
    "            if(A[i,j] == 0):\n",
    "                n = n+1\n",
    "                \n",
    "            if(n == c):\n",
    "                ran = ran -1\n",
    "    return ran \n",
    "            "
   ]
  },
  {
   "cell_type": "code",
   "execution_count": 7,
   "metadata": {},
   "outputs": [],
   "source": [
    "def Cramer(M,b, log = True):\n",
    "    X = np.zeros(cols(M))\n",
    "    detM = det(M)\n",
    "    unknow = ['x','y','z','t']\n",
    "    \n",
    "    for i in range(0, len(X)):\n",
    "        Mx = M.copy()\n",
    "        Mx[:,i] = t(b)\n",
    "        detMx = det(Mx)\n",
    "        X[i] = detMx/detM\n",
    "        \n",
    "        if(log):\n",
    "            if(len(X) <= len(unknow)):\n",
    "                print(unknow[i], ' = ', X[i])\n",
    "            else:\n",
    "                print('x[',i,'] = ', X[i])\n",
    "    return X"
   ]
  },
  {
   "cell_type": "code",
   "execution_count": 8,
   "metadata": {},
   "outputs": [],
   "source": [
    "def solve(M, b = 0, cramer = True, log = True):\n",
    "    E = 'E: wrong dimensions: vector B must have number of terms equal to rows number of A.'\n",
    "    if(type(b) == int):\n",
    "        b = np.zeros((rows(M)))   \n",
    "    if(cramer):\n",
    "        if(len(b) == rows(M)):\n",
    "            print('solved')\n",
    "            return Cramer(M, b, log)\n",
    "        elif(len(t(b)) == rows(M)):\n",
    "            print('solved with transposed b')\n",
    "            return Cramer(M, t(b), log)\n",
    "        else:\n",
    "            print(E)\n",
    "            \n",
    "    else:\n",
    "        if(len(b) == rows(M)):\n",
    "            print('solved with numpy')\n",
    "            return alg.solve(M, b)\n",
    "        elif(len(t(b)) == rows(M)):\n",
    "            print('solved with numpy and transposed b')\n",
    "            return alg.solve(M, t(b))\n",
    "        else:\n",
    "            print(E)\n",
    "    "
   ]
  },
  {
   "cell_type": "markdown",
   "metadata": {},
   "source": [
    "# Geometry"
   ]
  },
  {
   "cell_type": "code",
   "execution_count": 9,
   "metadata": {},
   "outputs": [],
   "source": [
    "#mpl.rcParams['legend.fontsize'] = 15\n",
    "\n",
    "#fig = plt.figure()\n",
    "#ax = fig.gca(projection='3d')\n",
    "#theta = np.linspace(-4 * np.pi, 4 * np.pi, 100)\n",
    "#z = np.linspace(-2, 2, 100)\n",
    "#r = z**3 + 5\n",
    "#x = r * np.sin(theta)\n",
    "#y = r * np.cos(theta)\n",
    "#ax.plot(x, y, z, label='parametric curve')\n",
    "#ax.legend()\n",
    "\n",
    "#plt.show()"
   ]
  },
  {
   "cell_type": "code",
   "execution_count": 10,
   "metadata": {},
   "outputs": [],
   "source": [
    "#def pointsCoordinatesTOmatrix(points):\n",
    "#    if(type(points) == list):\n",
    "#        metaP = MO(#defined based on points)\n",
    "#        for i in range(0, #metaP rows):\n",
    "#            for j in range(0,#metaPcols)\n",
    "#                metaP[i,j] = #respective points.coordinates\n",
    "#        return metaP\n",
    "#    else:\n",
    "#        print('to do')\n",
    "        \n",
    "\n",
    "def pointsTOmatrix(points, log = False, dimension = '2D'):\n",
    "    def dimensionChange(points):\n",
    "        if(dimension == '2D'):\n",
    "            if(log):\n",
    "                print('')\n",
    "                print('converted to points matrix: ')\n",
    "                print(' -coordinates: ')\n",
    "            it = points.dimensions/2\n",
    "            if(str(it-int(it))[1:] == '.0'):\n",
    "                it = int(it)\n",
    "            if(type(it) == int):\n",
    "                metaP = []\n",
    "                d = 0\n",
    "                for i in range(0, it):\n",
    "                    metaP.append(P([points.coordinates[d], points.coordinates[d+1]]))\n",
    "                    if(log):\n",
    "                        print('    ', metaP[i].coordinates)\n",
    "                    d += 2\n",
    "                if(log):\n",
    "                    print(' -objects array: ')\n",
    "                    print(metaP)\n",
    "                    print('-------')\n",
    "            return metaP\n",
    "        \n",
    "    meta = dimensionChange(points)\n",
    "    p = MO((len(meta), meta[0].dimensions))\n",
    "    for i in range(0, len(meta)):\n",
    "        p[i,:] = meta[i].coordinates\n",
    "        \n",
    "    return p\n",
    "\n",
    "def drawPoints(points, mode = '2D', log = False):\n",
    "    \n",
    "    def draw2DPoints(points):\n",
    "        p = pointsTOmatrix(points, log)\n",
    "        for i in range(0, len(p)):\n",
    "            x = p[i,0]\n",
    "            y = p[i,1]\n",
    "            plt.scatter(x, y, s=20)\n",
    "\n",
    "    def draw3DPoints(points):\n",
    "        p = pointsTOmatrix(points)\n",
    "        fig = plt.figure()\n",
    "        ax = Axes3D(fig)\n",
    "\n",
    "        x = list(p[:,0])\n",
    "        y = list(p[:,1])\n",
    "        z = list(p[:,2])\n",
    "\n",
    "        ax.scatter(x,y,z)\n",
    "        plt.show()\n",
    "    \n",
    "    if(mode == '2D'):\n",
    "        draw2DPoints(points)\n",
    "    else:\n",
    "        draw3DPoints(points)\n",
    "        \n",
    "class P:\n",
    "\n",
    "    def __init__(self, coordinates, log = False):\n",
    "        self.coordinates = coordinates\n",
    "        self.dimensions = int(len(coordinates))\n",
    "\n",
    "        if(log):\n",
    "            self.infoDisplay()\n",
    "            self.draw(log)\n",
    "            \n",
    "    def infoDisplay(self):\n",
    "        print('object: ', P)\n",
    "        print('P',self.coordinates)\n",
    "        print('dimensions = ',self.dimensions)\n",
    "        \n",
    "    def draw(self, log = False, multidimensionalRepresentation = '2D'):\n",
    "        \n",
    "        if (self.dimensions < 4):\n",
    "            metaP = P(self.coordinates)\n",
    "            if(self.dimensions == 3):\n",
    "                drawPoints(metaP, '3D')\n",
    "            elif(self.dimensions == 2):\n",
    "                drawPoints(metaP)\n",
    "                \n",
    "        elif(multidimensionalRepresentation == '2D'):\n",
    "            metaP = P(self.coordinates)\n",
    "            drawPoints(metaP, log = log)\n"
   ]
  },
  {
   "cell_type": "code",
   "execution_count": 11,
   "metadata": {},
   "outputs": [],
   "source": [
    "#class v:\n",
    "#    def __init__(self, a = P([0,0]), b = ([0,0])):\n",
    "        #Based on 2 coordinate points or on a straight or on a surface.\n",
    "         "
   ]
  },
  {
   "cell_type": "code",
   "execution_count": 12,
   "metadata": {},
   "outputs": [
    {
     "name": "stdout",
     "output_type": "stream",
     "text": [
      "object:  <class '__main__.P'>\n",
      "P [2, 2, 7, 5, 8, 6]\n",
      "dimensions =  6\n",
      "\n",
      "converted to points matrix: \n",
      " -coordinates: \n",
      "     [2, 2]\n",
      "     [7, 5]\n",
      "     [8, 6]\n",
      " -objects array: \n",
      "[<__main__.P object at 0x000001E9E6C97C50>, <__main__.P object at 0x000001E9E6C975F8>, <__main__.P object at 0x000001E9E6C97470>]\n",
      "-------\n",
      "2\n",
      "[2, 2, 7, 5, 8, 6]\n"
     ]
    },
    {
     "data": {
      "image/png": "[encoded data removed]",
      "text/plain": [
       "<Figure size 432x288 with 1 Axes>"
      ]
     },
     "metadata": {
      "needs_background": "light"
     },
     "output_type": "display_data"
    }
   ],
   "source": [
    "c = P([2,2,7,5,8,6], True)\n",
    "c2 = P([4,4,1,2,1,1])\n",
    "a = P([1.5,1.5])\n",
    "b= P([0,4])\n",
    "drawPoints(c2)\n",
    "a.draw()\n",
    "print(a.dimensions)\n",
    "print(c.coordinates)"
   ]
  },
  {
   "cell_type": "code",
   "execution_count": 13,
   "metadata": {},
   "outputs": [],
   "source": [
    "b = P([1,2,3,4,5,6])\n",
    "c = P([2,3,4,5,6,7])\n",
    "d = P([3,4,5,6,7,8])\n",
    "#x = pointsCoordinatesTOmatrix([b,c,d])"
   ]
  },
  {
   "cell_type": "code",
   "execution_count": 15,
   "metadata": {},
   "outputs": [
    {
     "name": "stdout",
     "output_type": "stream",
     "text": [
      "[[3. 0. 1. 0. 2.]\n",
      " [2. 2. 1. 4. 2.]\n",
      " [0. 3. 1. 1. 1.]\n",
      " [2. 0. 1. 2. 3.]\n",
      " [1. 3. 2. 0. 3.]]\n",
      "[[0.]\n",
      " [1.]\n",
      " [2.]\n",
      " [1.]\n",
      " [1.]]\n"
     ]
    },
    {
     "data": {
      "text/plain": [
       "array([[  3.,   0.,   1.,   0.,   2.],\n",
       "       [  0.,   6.,   1.,  12.,   2.],\n",
       "       [  0.,   0.,   6., -60.,   0.],\n",
       "       [  0.,   0.,   0.,   0.,   0.],\n",
       "       [  0.,   0.,   0.,   0.,   0.]])"
      ]
     },
     "execution_count": 15,
     "metadata": {},
     "output_type": "execute_result"
    }
   ],
   "source": [
    "a = randomM(5,5, 4, doRound = False)\n",
    "b = randomM(5,1, 4, doRound = False)\n",
    "print(matrixRound(a))\n",
    "print(matrixRound(b))\n",
    "\n",
    "a = matrixRound(a)\n",
    "gauss(a)"
   ]
  }
 ],
 "metadata": {
  "kernelspec": {
   "display_name": "Python 3",
   "language": "python",
   "name": "python3"
  },
  "language_info": {
   "codemirror_mode": {
    "name": "ipython",
    "version": 3
   },
   "file_extension": ".py",
   "mimetype": "text/x-python",
   "name": "python",
   "nbconvert_exporter": "python",
   "pygments_lexer": "ipython3",
   "version": "3.6.8"
  }
 },
 "nbformat": 4,
 "nbformat_minor": 2
}
