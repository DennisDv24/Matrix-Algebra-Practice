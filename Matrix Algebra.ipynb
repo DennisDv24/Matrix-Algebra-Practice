{
 "cells": [
  {
   "cell_type": "markdown",
   "metadata": {},
   "source": [
    "# Matrix Algebra\n",
    "### Importation"
   ]
  },
  {
   "cell_type": "code",
   "execution_count": 1,
   "metadata": {},
   "outputs": [],
   "source": [
    "import numpy as np\n",
    "import tensorflow as tf\n",
    "import matplotlib as mlt\n",
    "from numpy import linalg as alg"
   ]
  },
  {
   "cell_type": "markdown",
   "metadata": {},
   "source": [
    "### Functions"
   ]
  },
  {
   "cell_type": "code",
   "execution_count": 2,
   "metadata": {},
   "outputs": [],
   "source": [
    "M       = np.array\n",
    "t       = np.transpose\n",
    "I       = np.identity\n",
    "reshape = np.reshape\n",
    "o       = np.multiply\n",
    "x       = np.dot\n",
    "pow     = alg.matrix_power\n",
    "inv     = alg.inv\n",
    "det     = alg.det\n",
    "\n",
    "rows    = lambda M : np.size(M, 0)\n",
    "cols    = lambda M : np.size(M, 1)"
   ]
  },
  {
   "cell_type": "code",
   "execution_count": 3,
   "metadata": {},
   "outputs": [],
   "source": [
    "def matrixRound(M, n):\n",
    "    r = rows(M)\n",
    "    c = cols(M)\n",
    "    M = M.flatten()\n",
    "    for i in range(0, len(M)):\n",
    "        M[i] = round(M[i],n)\n",
    "    M = reshape(M,(r,c))\n",
    "    return M\n"
   ]
  },
  {
   "cell_type": "code",
   "execution_count": 4,
   "metadata": {},
   "outputs": [],
   "source": [
    "def randomM(d1,d2,_round = 0, factor = 10):\n",
    "    M = np.random.rand(d1,d2)\n",
    "    M = M * factor\n",
    "    M = matrixRound(M,_round)\n",
    "    return M"
   ]
  },
  {
   "cell_type": "code",
   "execution_count": 5,
   "metadata": {},
   "outputs": [],
   "source": [
    "def gauss(M):\n",
    "    Mprime = M.copy()\n",
    "    c = cols(M)-1\n",
    "    for i in range(0, c):\n",
    "        for j in range(0, c-i):\n",
    "            Mprime[c-j,:] = Mprime[c-j-1,i]*Mprime[c-j,:] - Mprime[c-j,i]*Mprime[c-j-1,:] \n",
    "    return Mprime"
   ]
  },
  {
   "cell_type": "code",
   "execution_count": 6,
   "metadata": {},
   "outputs": [],
   "source": [
    "def r(M):\n",
    "    A = M.copy()\n",
    "    A = gauss(A)\n",
    "    if(cols(A)>rows(A)):\n",
    "        ran = rows(A)\n",
    "    else:\n",
    "        ran = cols(A)\n",
    "    c = ran\n",
    "    \n",
    "    for i in range(0, c):\n",
    "        n = 0\n",
    "        \n",
    "        for j in range(0, c):\n",
    "            if(A[i,j] == 0):\n",
    "                n = n+1\n",
    "                \n",
    "            if(n == c):\n",
    "                ran = ran -1\n",
    "            \n",
    "    return ran \n",
    "            "
   ]
  },
  {
   "cell_type": "code",
   "execution_count": 7,
   "metadata": {},
   "outputs": [],
   "source": [
    "def Cramer(M,b, log = True):\n",
    "    X = np.zeros(cols(M))\n",
    "    detM = det(M)\n",
    "    unknow = ['x','y','z','t']\n",
    "    \n",
    "    for i in range(0, len(X)):\n",
    "        Mx = M.copy()\n",
    "        Mx[:,i] = t(b)\n",
    "        detMx = det(Mx)\n",
    "        X[i] = detMx/detM\n",
    "        \n",
    "        if(log):\n",
    "            if(len(X) <= len(unknow)):\n",
    "                print(unknow[i], ' = ', X[i])\n",
    "            else:\n",
    "                print('x[',i,'] = ', X[i])\n",
    "    return X"
   ]
  },
  {
   "cell_type": "code",
   "execution_count": 8,
   "metadata": {},
   "outputs": [],
   "source": [
    "def solve(M, b = 0, cramer = True, log = True):\n",
    "    E = 'E: wrong dimensions: vector B must have number of terms equal to rows number of A.'\n",
    "    if(type(b) == int):\n",
    "        b = np.zeros((rows(M)))   \n",
    "    if(cramer):\n",
    "        if(len(b) == rows(M)):\n",
    "            print('solved')\n",
    "            return Cramer(M, b, log)\n",
    "        elif(len(t(b)) == rows(M)):\n",
    "            print('solved with transposed b')\n",
    "            return Cramer(M, t(b), log)\n",
    "        else:\n",
    "            print(E)\n",
    "            \n",
    "    else:\n",
    "        if(len(b) == rows(M)):\n",
    "            print('solved with numpy')\n",
    "            return alg.solve(M, b)\n",
    "        elif(len(t(b)) == rows(M)):\n",
    "            print('solved with numpy and transposed b')\n",
    "            return alg.solve(M, t(b))\n",
    "        else:\n",
    "            print(E)\n",
    "    "
   ]
  },
  {
   "cell_type": "markdown",
   "metadata": {},
   "source": [
    "### Operations"
   ]
  },
  {
   "cell_type": "code",
   "execution_count": 9,
   "metadata": {},
   "outputs": [
    {
     "name": "stdout",
     "output_type": "stream",
     "text": [
      "solved\n",
      "x  =  1.7288842544316996\n",
      "y  =  -0.2669447340980186\n",
      "z  =  -1.0375391032325336\n",
      "t  =  0.6235662148070908\n"
     ]
    }
   ],
   "source": [
    "d = 4\n",
    "C = randomM(d,d)\n",
    "B = randomM(d,1)\n",
    "sol = solve(C, B)"
   ]
  },
  {
   "cell_type": "code",
   "execution_count": 10,
   "metadata": {},
   "outputs": [
    {
     "name": "stdout",
     "output_type": "stream",
     "text": [
      "[[2. 2. 1.]\n",
      " [0. 3. 1.]\n",
      " [0. 1. 1.]]\n",
      "[[2. 2. 1.]\n",
      " [0. 6. 2.]\n",
      " [0. 0. 0.]]\n",
      "2\n"
     ]
    }
   ],
   "source": [
    "d= 3\n",
    "C = randomM(d,d, factor = 3) \n",
    "\n",
    "print(C)\n",
    "print(gauss(C))\n",
    "print(r(C))"
   ]
  }
 ],
 "metadata": {
  "kernelspec": {
   "display_name": "Python 3",
   "language": "python",
   "name": "python3"
  },
  "language_info": {
   "codemirror_mode": {
    "name": "ipython",
    "version": 3
   },
   "file_extension": ".py",
   "mimetype": "text/x-python",
   "name": "python",
   "nbconvert_exporter": "python",
   "pygments_lexer": "ipython3",
   "version": "3.6.8"
  }
 },
 "nbformat": 4,
 "nbformat_minor": 2
}
