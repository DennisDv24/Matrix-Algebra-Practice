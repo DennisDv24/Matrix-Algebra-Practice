{
 "cells": [
  {
   "cell_type": "markdown",
   "metadata": {},
   "source": [
    "# Matrix Algebra"
   ]
  },
  {
   "cell_type": "code",
   "execution_count": 1,
   "metadata": {},
   "outputs": [],
   "source": [
    "import numpy as np\n",
    "import tensorflow as tf\n",
    "import matplotlib as mlt\n",
    "from numpy import linalg as alg"
   ]
  },
  {
   "cell_type": "code",
   "execution_count": 2,
   "metadata": {},
   "outputs": [],
   "source": [
    "M       = np.array\n",
    "t       = np.transpose\n",
    "I       = np.identity\n",
    "reshape = np.reshape\n",
    "o       = np.multiply\n",
    "x       = np.dot\n",
    "power   = alg.matrix_power\n",
    "inv     = alg.inv\n",
    "solve   = alg.solve\n",
    "\n",
    "rows    = lambda M : np.size(M, 0)\n",
    "cols    = lambda M : np.size(M, 1)"
   ]
  },
  {
   "cell_type": "code",
   "execution_count": 3,
   "metadata": {},
   "outputs": [],
   "source": [
    "def matrixRound(M, n):\n",
    "    r = rows(M)\n",
    "    c = cols(M)\n",
    "    M = M.flatten()\n",
    "    for i in range(0, len(M)):\n",
    "        M[i] = round(M[i],n)\n",
    "    M = reshape(M,(r,c))\n",
    "    return M\n"
   ]
  },
  {
   "cell_type": "code",
   "execution_count": 4,
   "metadata": {},
   "outputs": [],
   "source": [
    "def randomM(d1,d2,_round = 0, factor = 10):\n",
    "    M = np.random.rand(d1,d2)\n",
    "    M = M * factor\n",
    "    M = matrixRound(M,_round)\n",
    "    return M"
   ]
  },
  {
   "cell_type": "code",
   "execution_count": 5,
   "metadata": {},
   "outputs": [],
   "source": [
    "def gauss(M):\n",
    "    c = cols(M)-1\n",
    "    for i in range(0, c):\n",
    "        for j in range(0, c-i):\n",
    "            M[c-j,:] = M[c-j-1,i]*M[c-j,:] - M[c-j,i]*M[c-j-1,:] \n",
    "    return M"
   ]
  },
  {
   "cell_type": "code",
   "execution_count": 6,
   "metadata": {},
   "outputs": [],
   "source": [
    "def r(M):\n",
    "    A = gauss(M)\n",
    "    if(cols(A)>rows(A)):\n",
    "        ran = rows(A)\n",
    "    else:\n",
    "        ran = cols(A)\n",
    "    c = ran\n",
    "    \n",
    "    for i in range(0, c):\n",
    "        n = 0\n",
    "        \n",
    "        for j in range(0, c):\n",
    "            if(A[i,j] == 0):\n",
    "                n = n+1\n",
    "                \n",
    "        if(n == c):\n",
    "            ran = ran -1\n",
    "            \n",
    "    return ran \n",
    "            "
   ]
  },
  {
   "cell_type": "code",
   "execution_count": 7,
   "metadata": {},
   "outputs": [
    {
     "name": "stdout",
     "output_type": "stream",
     "text": [
      "3\n"
     ]
    }
   ],
   "source": [
    "C = randomM(4,4, factor = 2) \n",
    "\n",
    "print(r(C))"
   ]
  }
 ],
 "metadata": {
  "kernelspec": {
   "display_name": "Python 3",
   "language": "python",
   "name": "python3"
  },
  "language_info": {
   "codemirror_mode": {
    "name": "ipython",
    "version": 3
   },
   "file_extension": ".py",
   "mimetype": "text/x-python",
   "name": "python",
   "nbconvert_exporter": "python",
   "pygments_lexer": "ipython3",
   "version": "3.6.8"
  }
 },
 "nbformat": 4,
 "nbformat_minor": 2
}
